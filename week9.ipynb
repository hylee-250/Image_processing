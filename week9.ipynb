{
 "cells": [
  {
   "cell_type": "code",
   "execution_count": 1,
   "id": "51cfdd7e",
   "metadata": {},
   "outputs": [],
   "source": [
    "import cv2\n",
    "import numpy as np\n",
    "import matplotlib.pyplot as plt\n",
    "import huffman\n",
    "%matplotlib inline"
   ]
  },
  {
   "cell_type": "code",
   "execution_count": 2,
   "id": "0f4b3d69",
   "metadata": {
    "scrolled": true
   },
   "outputs": [],
   "source": [
    "bmp_img = cv2.imread(\"C:\\\\Work\\\\Image_processing\\\\lena.bmp\",cv2.IMREAD_COLOR)\n",
    "gray_img = cv2.cvtColor(bmp_img,cv2.COLOR_RGB2GRAY)\n",
    "height, width = gray_img.shape\n",
    "#plt.imshow(gray_img,cmap='gray')\n",
    "#plt.show()\n",
    "#print(gray_img)\n",
    "# 155 = 1001 1011(2)"
   ]
  },
  {
   "cell_type": "code",
   "execution_count": 3,
   "id": "9c16712b",
   "metadata": {},
   "outputs": [],
   "source": [
    "def bit3_convert(img):\n",
    "    rows, cols = img.shape\n",
    "    bit_3 = np.zeros((rows,cols))\n",
    "    for i in range(rows):\n",
    "        for j in range(cols):\n",
    "            if(img[i][j] <32):\n",
    "                bit_3[i][j] = 0\n",
    "            elif((img[i][j] >=32) & (img[i][j]<64)):\n",
    "                bit_3[i][j] = 1\n",
    "            elif((img[i][j] >=64) & (img[i][j]<96)):\n",
    "                bit_3[i][j] = 2\n",
    "            elif((img[i][j] >=96) & (img[i][j]<128)):\n",
    "                bit_3[i][j] = 3\n",
    "            elif((img[i][j] >=128) & (img[i][j]<160)):\n",
    "                bit_3[i][j] = 4\n",
    "            elif((img[i][j] >=160) & (img[i][j]<192)):\n",
    "                bit_3[i][j] = 5\n",
    "            elif((img[i][j] >=192) & (img[i][j]<224)):\n",
    "                bit_3[i][j] = 6\n",
    "            else:\n",
    "                bit_3[i][j] = 7\n",
    "    return bit_3"
   ]
  },
  {
   "cell_type": "code",
   "execution_count": 4,
   "id": "53a2008b",
   "metadata": {
    "scrolled": true
   },
   "outputs": [],
   "source": [
    "bit3_img = bit3_convert(gray_img).astype(np.uint8)\n",
    "#print(bit3_img)"
   ]
  },
  {
   "cell_type": "code",
   "execution_count": 12,
   "id": "2a13b9a2",
   "metadata": {},
   "outputs": [
    {
     "name": "stdout",
     "output_type": "stream",
     "text": [
      "[  805 43692 34667 56096 73207 32698 20855   124]\n"
     ]
    }
   ],
   "source": [
    "count = np.zeros(8).astype(np.uint32)\n",
    "for i in range(height):\n",
    "    for j in range(width):\n",
    "        count[bit3_img[i][j]] += 1\n",
    "print(count)"
   ]
  },
  {
   "cell_type": "code",
   "execution_count": 18,
   "id": "d8e9d4c7",
   "metadata": {},
   "outputs": [
    {
     "name": "stdout",
     "output_type": "stream",
     "text": [
      "[0.00307083 0.16667175 0.13224411 0.21398926 0.27926254 0.12473297\n",
      " 0.07955551 0.00047302]\n"
     ]
    }
   ],
   "source": [
    "prob = count / (512*512)\n",
    "print(prob)"
   ]
  },
  {
   "cell_type": "code",
   "execution_count": 14,
   "id": "570cb71c",
   "metadata": {},
   "outputs": [
    {
     "name": "stdout",
     "output_type": "stream",
     "text": [
      "{0: '00001', 1: '111', 2: '110', 3: '01', 4: '10', 5: '001', 6: '0001', 7: '00000'}\n"
     ]
    }
   ],
   "source": [
    "huff_code = huffman.codebook([(0,0.00307083),(1,0.16667175),(2,0.13224411),(3,0.21398926),\n",
    "                  (4,0.27926254),(5,0.12473297),(6,0.07955551),(7,0.00047302)])\n",
    "print(huff_code)"
   ]
  },
  {
   "cell_type": "code",
   "execution_count": 15,
   "id": "1c6e96fd",
   "metadata": {},
   "outputs": [
    {
     "name": "stdout",
     "output_type": "stream",
     "text": [
      "262144\n",
      "492069\n"
     ]
    }
   ],
   "source": [
    "concat = ''\n",
    "en_concat = ''\n",
    "encode = bit3_img.copy()\n",
    "for i in range(height):\n",
    "    for j in range(width):\n",
    "        concat += str(bit3_img[i][j])\n",
    "        if(bit3_img[i][j] == 0):\n",
    "            encode[i][j] = huff_code[0]\n",
    "        elif(bit3_img[i][j] == 1):\n",
    "            encode[i][j] = huff_code[1]\n",
    "        elif(bit3_img[i][j] == 2):\n",
    "            encode[i][j] = huff_code[2]\n",
    "        elif(bit3_img[i][j] == 3):\n",
    "            encode[i][j] = huff_code[3]\n",
    "        elif(bit3_img[i][j] == 4):\n",
    "            encode[i][j] = huff_code[4]\n",
    "        elif(bit3_img[i][j] == 5):\n",
    "            encode[i][j] = huff_code[5]\n",
    "        elif(bit3_img[i][j] == 6):\n",
    "            encode[i][j] = huff_code[6]\n",
    "        else:\n",
    "            encode[i][j] = huff_code[7]\n",
    "        en_concat += str(encode[i][j])\n",
    "print(len(concat))\n",
    "print(len(en_concat))"
   ]
  },
  {
   "cell_type": "code",
   "execution_count": 17,
   "id": "5efd32b9",
   "metadata": {},
   "outputs": [
    {
     "name": "stdout",
     "output_type": "stream",
     "text": [
      "2.5933914184570312\n"
     ]
    }
   ],
   "source": [
    "#avglen = 0.00307083 * 5 + 0.16667175 * 3 + 0.13224411 * 3 + 0.21398926 * 2 + 0.27926254 * 2 + 0.12473297 * 3 + 0.07955551 * 4 + 0.00047302 * 5\n",
    "avglen = 0\n",
    "for i in range(len(prob)):\n",
    "    avglen += prob[i] * len(huff_code[i])\n",
    "print(avglen)"
   ]
  },
  {
   "cell_type": "code",
   "execution_count": null,
   "id": "57e9e3fe",
   "metadata": {},
   "outputs": [],
   "source": []
  }
 ],
 "metadata": {
  "kernelspec": {
   "display_name": "Python 3",
   "language": "python",
   "name": "python3"
  },
  "language_info": {
   "codemirror_mode": {
    "name": "ipython",
    "version": 3
   },
   "file_extension": ".py",
   "mimetype": "text/x-python",
   "name": "python",
   "nbconvert_exporter": "python",
   "pygments_lexer": "ipython3",
   "version": "3.9.4"
  }
 },
 "nbformat": 4,
 "nbformat_minor": 5
}
